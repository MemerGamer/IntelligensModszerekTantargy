{
  "nbformat": 4,
  "nbformat_minor": 0,
  "metadata": {
    "colab": {
      "name": "Kiertekeles.ipynb",
      "provenance": [],
      "include_colab_link": true
    },
    "kernelspec": {
      "name": "python3",
      "display_name": "Python 3"
    },
    "language_info": {
      "name": "python"
    }
  },
  "cells": [
    {
      "cell_type": "markdown",
      "metadata": {
        "id": "view-in-github",
        "colab_type": "text"
      },
      "source": [
        "<a href=\"https://colab.research.google.com/github/kr7/IntelligensModszerekTantargy/blob/main/Kiertekeles.ipynb\" target=\"_parent\"><img src=\"https://colab.research.google.com/assets/colab-badge.svg\" alt=\"Open In Colab\"/></a>"
      ]
    },
    {
      "cell_type": "markdown",
      "metadata": {
        "id": "pboWeoHj2EL_"
      },
      "source": [
        "**Adatok betöltése**"
      ]
    },
    {
      "cell_type": "code",
      "metadata": {
        "id": "oXCYY5BA4blO"
      },
      "source": [
        "import numpy as np\n",
        "data_with_labels = np.loadtxt('https://archive.ics.uci.edu/ml/machine-learning-databases/spambase/spambase.data', delimiter=',')"
      ],
      "execution_count": null,
      "outputs": []
    },
    {
      "cell_type": "code",
      "metadata": {
        "id": "XeMLU1fhGfn_"
      },
      "source": [
        "!wget https://archive.ics.uci.edu/ml/machine-learning-databases/spambase/spambase.names\n",
        "\n",
        "column_names = []\n",
        "with open(\"spambase.names\") as f:\n",
        "  for i in range(33):\n",
        "    f.readline()\n",
        "\n",
        "  for i in range(57):\n",
        "    line = f.readline()\n",
        "    column_names.append(line.split(\":\")[0])"
      ],
      "execution_count": null,
      "outputs": []
    },
    {
      "cell_type": "markdown",
      "metadata": {
        "id": "eytMmMgP4mgV"
      },
      "source": [
        "**1. feladat: keresztvalidációs protokollok**\n",
        "\n",
        "Osztályozza az adatokat döntési fával és értékelje ki a modellt 10-szeres keresztvalidációval.\n",
        "\n",
        "(a) Az *sklearn.model_selection* csomagbeli *StratifiedKFold* használatával határozza meg, hogy mely példányok kerülnek a tanító és teszt halmazokba a keresztvalidáció egyes \"fordulóiban\". Írassa ki a tanító és teszt példányok indexeit (sorszámait) az egyes \"fordulókban\"! Egészítse ki az alábbi kódot!\n",
        "\n",
        "(b) Ellenőrizze, hogy ugyanazon index (sorszám) nem fordul elő a tanító és teszt indexek között!\n",
        "\n",
        "(c) Ön szerint miért volt szükség arra, hogy a split(...) metódus bemenetként megkapja az adatokat és azok osztálycímkéit, holott mindössze indexeket (sorszámokat) adott vissza, adatpéldányokat nem. Elég lenne a példányok számának ismerete a split(...) metódus által végzett funkcionalitás megvalósításához?\n",
        "\n",
        "(d) Többször egymás után futtatva a kódot, ugyanazok a példányok kerülnek-e tanító és teszthalmazba a keresztvalidáció egyes fordulóiban? Állítsa a *random_state*-t, hogy többszöri futtatás során ugyanazon felosztásokat kapjuk! Miért előnyös a *random_state* állítása?\n",
        "\n",
        "(e) A StratifiedKFold-tól kapott indexeket használva ossza fel az adatokat tanító és tesztadatokra és tanítson egy-egy döntési fát a keresztvalidáció minden fordulójában. A fa legnagyobb mélysége legfeljebb 3 legyen! Emlékeztetőül, a döntési fa tanításához előző órán ezt a kódot használtuk:\n",
        "\n",
        "    from sklearn.tree import DecisionTreeClassifier\n",
        "    \n",
        "    model = DecisionTreeClassifier(max_depth=4)\n",
        "    model.fit(data_train, labels_train)\n",
        "\n",
        "Az egyes modelleket egy *models* elnevezésű listába tárolja el.\n",
        "\n",
        "(f) Értékelje ki a modelleket az egyes fordulókban, és tárolja el a modellek pontosságát (helyesen osztályozott példányok arányát) egy *accuracies* elnevezésű listába! Emlékeztetőül, a tanítotott modell predikcióit a predict(...) függvénnyel tudjuk kiszámolni:\n",
        "\n",
        "    pred = model.predict(data_test)\n",
        "\n",
        "(g) Számolja ki a modell átlagos pontosságát, a pontosság szórását, minimumát és maximumát!\n",
        "\n",
        "(h) A megadott kód segítségével jelenítse meg 10-szeres keresztvalidáció egyes fordulóiban kapott döntési fákat és hasonlítsa össze ezeket! Lát-e különbségetek? Mi lehet ennek az oka?\n",
        "\n",
        "(i) Tanítson egy modellt az **összes** rendelkezésre álló adat felhasználásával *best_model* néven! Mit tud elmondani ennek a modellnek a pontosságáról?\n"
      ]
    },
    {
      "cell_type": "code",
      "metadata": {
        "id": "Rqpfcei955pX"
      },
      "source": [
        "# (a)-(g) részfeladatokhoz kapcsolódó kiegészítendő kód\n",
        "\n",
        "...IDE JÖN A KÓD...\n",
        "\n",
        "skf = StratifiedKFold(n_splits = ...IDE JÖN A KÓD...)\n",
        "\n",
        "data = ...IDE JÖN A KÓD...\n",
        "labels = ...IDE JÖN A KÓD...\n",
        "\n",
        "for train_index, test_index in skf.split(data, labels):\n",
        "  ...IDE JÖN A KÓD..."
      ],
      "execution_count": null,
      "outputs": []
    },
    {
      "cell_type": "code",
      "metadata": {
        "id": "ThheePOwuqjA"
      },
      "source": [],
      "execution_count": null,
      "outputs": []
    },
    {
      "cell_type": "code",
      "metadata": {
        "id": "PUpNRIMVAdUU"
      },
      "source": [
        "# (h) részfeladathoz kapcsolódó kód\n",
        "\n",
        "from six import StringIO\n",
        "from sklearn.tree import export_graphviz\n",
        "import pydot\n",
        "from IPython.display import Image\n",
        "from google.colab import widgets\n",
        "\n",
        "tb = widgets.TabBar([str(i) for i in range(10)], location='top')\n",
        "for i in range(10):\n",
        "  with tb.output_to(i):\n",
        "    dot_data = StringIO()\n",
        "    export_graphviz(models[i], out_file=dot_data, feature_names=column_names, \\\n",
        "                        class_names=['non spam', 'spam'], filled=True, rounded=True, \\\n",
        "                        special_characters=True)\n",
        "    graph = pydot.graph_from_dot_data(dot_data.getvalue())\n",
        "    display(Image(graph[0].create_png()))"
      ],
      "execution_count": null,
      "outputs": []
    },
    {
      "cell_type": "markdown",
      "metadata": {
        "id": "5iheP-7gNH1J"
      },
      "source": [
        "**2. feladat: kiértékelési metrikák: Precision, Recall, F-measure**\n",
        "\n",
        "Tanítson egy logisztikus regressziós modellet az előbbi spam-felismerési feladatra a megadott kód segítségével! A *predict_proba* metódust használva a logisztikus regresszió egy 0 és 1 közötti valószínűséget prediktál minden osztályra, amely azt adja meg, hogy mekkora eséllyel tartozik egy-egy példány az egyes osztályokba. Feltételezve, hogy 0.5 feletti valószínűség esetén a modell az adott e-mail-t spam-ként osztályozta, és azt, hogy a \"spam\" osztályt tekintjük a pozitív osztálynak,\n",
        "\n",
        "(a) számolja ki az osztályozó precision-ét (azt, hogy a pozitívnak prediktált példányok mekkora része pozitív ténylegesen),\n",
        "\n",
        "(b) recall-át (azt, hogy a ténylegesen pozitív példányok mekkora részét prediktálta a modell pozitívnak), és\n",
        "\n",
        "(c) f-measure-ét (precision és recall harmónikus közepét)!\n",
        "\n",
        "(d) Írjon egy függvényt, amely tetszőleges küszöbszám mellett kiszámolja a precision-t és recall-t.\n",
        "\n",
        "(e) Az előbbi függvényt meghívva mentse le a precision és recall értékeket 0.1, 0.2, 0.3, 0.4, ... 0.9 küszöbszámok mellett egy *precisions* ill. *recalls* elnevezésű listába. A megadott kód segítségével ábrázolja a kapott precision és recall értékeket!\n",
        "\n",
        "(f) A precision-recall görbe alatti terület használható a modell pontosságának mérésére. Ugyanakkor ez a mérék túlságosan optimista lehet(*), egy jobb eljárás a modell pontosságának mérésére az összes lehetséges recall szint melletti precision átlaga, amely egyben közelítése a precision-recall görbe alatti területnek. Számolja ki a modell pontosságát az sklearn.metrics csomagbeli average_precision_score függvényt használva! Ha szükséges, tanulmányozza az alábbi dokumentációt:\n",
        "\n",
        "(*) https://scikit-learn.org/stable/modules/generated/sklearn.metrics.average_precision_score.html\n"
      ]
    },
    {
      "cell_type": "code",
      "metadata": {
        "id": "XwFd4j3VOLhA"
      },
      "source": [
        "from sklearn.linear_model import LogisticRegression\n",
        "\n",
        "test_indices = np.array(range(0,len(data),5))\n",
        "train_indices = [i for i in range(len(data)) if i not in test_indices]\n",
        "\n",
        "data_train   = data[train_indices]\n",
        "data_test    = data[test_indices]\n",
        "labels_train = labels[train_indices]\n",
        "labels_test  = labels[test_indices]\n",
        "\n",
        "model = LogisticRegression()\n",
        "model.fit(data_train, labels_train)\n",
        "\n",
        "pred = model.predict_proba(data_test)"
      ],
      "execution_count": null,
      "outputs": []
    },
    {
      "cell_type": "code",
      "metadata": {
        "id": "Hol0c9fcQCTg"
      },
      "source": [
        "...IDE JÖN A KÓD..."
      ],
      "execution_count": null,
      "outputs": []
    },
    {
      "cell_type": "code",
      "metadata": {
        "id": "QWN-edx_VMvk"
      },
      "source": [
        "# (e) részfeladathoz kapcsolódó kód precision és recall ábrázolására\n",
        "plt.xlabel('Precision')\n",
        "plt.ylabel('Recall')\n",
        "plt.plot(precisions, recalls, linestyle='--', marker='o');"
      ],
      "execution_count": null,
      "outputs": []
    },
    {
      "cell_type": "code",
      "metadata": {
        "id": "PUAB56RAVcwo"
      },
      "source": [
        "...IDE JÖN A KÓD..."
      ],
      "execution_count": null,
      "outputs": []
    },
    {
      "cell_type": "markdown",
      "metadata": {
        "id": "1f-G1y1EtyJz"
      },
      "source": [
        "**3. feladat: precision, recall, f-measure 10-szeres keresztvalidáció mellett**\n",
        "\n",
        "(a) Az előbbi kódokból kiindulva tanítson logisztikus regressziót spam felismerésre 10-szeres keresztvalidáció mellett. A keresztvalidáció minden fordulójában számolja ki a precision, recall és f-measure értékét 0.5-ös küszöbszám mellett, és mentse el ezeket *prec_lr*, *recall_lr* és *f_lr* listákba.\n",
        "\n",
        "(b) Számolja ki a 10 fordulóban kapott precision, recall és f-measure átlagát! Számolja ki az átlagos precision és átlagos recall harmónikus közepét! Hasonlítsa össze az f-measure-k átlagával!\n",
        "\n",
        "(c) Hogyan tudnánk precision-t, recall-t és f-measure-t számolni többosztályos osztályozási feladatoknál, ahol nem csak két osztály van?"
      ]
    },
    {
      "cell_type": "code",
      "metadata": {
        "id": "bcTx-JzevR3b"
      },
      "source": [
        "...IDE JÖN A KÓD..."
      ],
      "execution_count": null,
      "outputs": []
    },
    {
      "cell_type": "code",
      "metadata": {
        "id": "Tr5ky0DJ3QL5"
      },
      "source": [
        "...IDE JÖN A KÓD..."
      ],
      "execution_count": null,
      "outputs": []
    },
    {
      "cell_type": "code",
      "metadata": {
        "id": "cRIL2G0Q3RXr"
      },
      "source": [
        "...IDE JÖN A KÓD..."
      ],
      "execution_count": null,
      "outputs": []
    },
    {
      "cell_type": "markdown",
      "metadata": {
        "id": "RgPYpuPIzo_Z"
      },
      "source": [
        "**4. feladat: szignifikanciavizsgálat t-próbával**\n",
        "\n",
        "(a) Módosítsa a 3-dik feladatban elkészített kódot úgy, hogy fordulónként lementi a helyesen osztályozott példányok arányát az *accuracies_lr* elnevezésű tömbbe. Számolja ki az átlagos accuracy-t.\n",
        "\n",
        "(b) A scipy.stats csomagbeli ttest_rel függvényt használva döntse el, hogy van-e szignifikáns különbség a két osztályozó teljesítménye között!"
      ]
    },
    {
      "cell_type": "code",
      "metadata": {
        "id": "f2EnFEkcbHQ6"
      },
      "source": [
        "...IDE JÖN A KÓD..."
      ],
      "execution_count": null,
      "outputs": []
    },
    {
      "cell_type": "code",
      "metadata": {
        "id": "cXA5SXUrz0xk"
      },
      "source": [
        "...IDE JÖN A KÓD..."
      ],
      "execution_count": null,
      "outputs": []
    },
    {
      "cell_type": "code",
      "metadata": {
        "id": "otFhXCjT1Lny"
      },
      "source": [],
      "execution_count": null,
      "outputs": []
    }
  ]
}